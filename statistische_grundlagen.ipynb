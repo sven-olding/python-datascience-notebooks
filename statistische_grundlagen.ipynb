{
 "cells": [
  {
   "cell_type": "markdown",
   "metadata": {},
   "source": [
    "# Statistische Grundlagen"
   ]
  },
  {
   "cell_type": "code",
   "execution_count": 29,
   "metadata": {},
   "outputs": [],
   "source": [
    "%matplotlib inline\n",
    "%config InlineBackend.figure_formats = ['svg']\n",
    "%config InlineBackend.rc = {'figure.figsize': (5.0, 3.0)}"
   ]
  },
  {
   "cell_type": "code",
   "execution_count": 30,
   "metadata": {},
   "outputs": [
    {
     "data": {
      "text/html": [
       "<div>\n",
       "<style scoped>\n",
       "    .dataframe tbody tr th:only-of-type {\n",
       "        vertical-align: middle;\n",
       "    }\n",
       "\n",
       "    .dataframe tbody tr th {\n",
       "        vertical-align: top;\n",
       "    }\n",
       "\n",
       "    .dataframe thead th {\n",
       "        text-align: right;\n",
       "    }\n",
       "</style>\n",
       "<table border=\"1\" class=\"dataframe\">\n",
       "  <thead>\n",
       "    <tr style=\"text-align: right;\">\n",
       "      <th></th>\n",
       "      <th>Id</th>\n",
       "      <th>EmployeeName</th>\n",
       "      <th>JobTitle</th>\n",
       "      <th>BasePay</th>\n",
       "      <th>OvertimePay</th>\n",
       "      <th>OtherPay</th>\n",
       "      <th>Benefits</th>\n",
       "      <th>TotalPay</th>\n",
       "      <th>TotalPayBenefits</th>\n",
       "      <th>Year</th>\n",
       "      <th>Notes</th>\n",
       "      <th>Agency</th>\n",
       "      <th>Status</th>\n",
       "    </tr>\n",
       "  </thead>\n",
       "  <tbody>\n",
       "    <tr>\n",
       "      <th>0</th>\n",
       "      <td>1</td>\n",
       "      <td>NATHANIEL FORD</td>\n",
       "      <td>GENERAL MANAGER-METROPOLITAN TRANSIT AUTHORITY</td>\n",
       "      <td>167411.18</td>\n",
       "      <td>0.00</td>\n",
       "      <td>400184.25</td>\n",
       "      <td>NaN</td>\n",
       "      <td>567595.43</td>\n",
       "      <td>567595.43</td>\n",
       "      <td>2011</td>\n",
       "      <td>NaN</td>\n",
       "      <td>San Francisco</td>\n",
       "      <td>NaN</td>\n",
       "    </tr>\n",
       "    <tr>\n",
       "      <th>1</th>\n",
       "      <td>2</td>\n",
       "      <td>GARY JIMENEZ</td>\n",
       "      <td>CAPTAIN III (POLICE DEPARTMENT)</td>\n",
       "      <td>155966.02</td>\n",
       "      <td>245131.88</td>\n",
       "      <td>137811.38</td>\n",
       "      <td>NaN</td>\n",
       "      <td>538909.28</td>\n",
       "      <td>538909.28</td>\n",
       "      <td>2011</td>\n",
       "      <td>NaN</td>\n",
       "      <td>San Francisco</td>\n",
       "      <td>NaN</td>\n",
       "    </tr>\n",
       "    <tr>\n",
       "      <th>2</th>\n",
       "      <td>3</td>\n",
       "      <td>ALBERT PARDINI</td>\n",
       "      <td>CAPTAIN III (POLICE DEPARTMENT)</td>\n",
       "      <td>212739.13</td>\n",
       "      <td>106088.18</td>\n",
       "      <td>16452.60</td>\n",
       "      <td>NaN</td>\n",
       "      <td>335279.91</td>\n",
       "      <td>335279.91</td>\n",
       "      <td>2011</td>\n",
       "      <td>NaN</td>\n",
       "      <td>San Francisco</td>\n",
       "      <td>NaN</td>\n",
       "    </tr>\n",
       "    <tr>\n",
       "      <th>3</th>\n",
       "      <td>4</td>\n",
       "      <td>CHRISTOPHER CHONG</td>\n",
       "      <td>WIRE ROPE CABLE MAINTENANCE MECHANIC</td>\n",
       "      <td>77916.00</td>\n",
       "      <td>56120.71</td>\n",
       "      <td>198306.90</td>\n",
       "      <td>NaN</td>\n",
       "      <td>332343.61</td>\n",
       "      <td>332343.61</td>\n",
       "      <td>2011</td>\n",
       "      <td>NaN</td>\n",
       "      <td>San Francisco</td>\n",
       "      <td>NaN</td>\n",
       "    </tr>\n",
       "    <tr>\n",
       "      <th>4</th>\n",
       "      <td>5</td>\n",
       "      <td>PATRICK GARDNER</td>\n",
       "      <td>DEPUTY CHIEF OF DEPARTMENT,(FIRE DEPARTMENT)</td>\n",
       "      <td>134401.60</td>\n",
       "      <td>9737.00</td>\n",
       "      <td>182234.59</td>\n",
       "      <td>NaN</td>\n",
       "      <td>326373.19</td>\n",
       "      <td>326373.19</td>\n",
       "      <td>2011</td>\n",
       "      <td>NaN</td>\n",
       "      <td>San Francisco</td>\n",
       "      <td>NaN</td>\n",
       "    </tr>\n",
       "  </tbody>\n",
       "</table>\n",
       "</div>"
      ],
      "text/plain": [
       "   Id       EmployeeName                                        JobTitle  \\\n",
       "0   1     NATHANIEL FORD  GENERAL MANAGER-METROPOLITAN TRANSIT AUTHORITY   \n",
       "1   2       GARY JIMENEZ                 CAPTAIN III (POLICE DEPARTMENT)   \n",
       "2   3     ALBERT PARDINI                 CAPTAIN III (POLICE DEPARTMENT)   \n",
       "3   4  CHRISTOPHER CHONG            WIRE ROPE CABLE MAINTENANCE MECHANIC   \n",
       "4   5    PATRICK GARDNER    DEPUTY CHIEF OF DEPARTMENT,(FIRE DEPARTMENT)   \n",
       "\n",
       "     BasePay  OvertimePay   OtherPay  Benefits   TotalPay  TotalPayBenefits  \\\n",
       "0  167411.18         0.00  400184.25       NaN  567595.43         567595.43   \n",
       "1  155966.02    245131.88  137811.38       NaN  538909.28         538909.28   \n",
       "2  212739.13    106088.18   16452.60       NaN  335279.91         335279.91   \n",
       "3   77916.00     56120.71  198306.90       NaN  332343.61         332343.61   \n",
       "4  134401.60      9737.00  182234.59       NaN  326373.19         326373.19   \n",
       "\n",
       "   Year  Notes         Agency Status  \n",
       "0  2011    NaN  San Francisco    NaN  \n",
       "1  2011    NaN  San Francisco    NaN  \n",
       "2  2011    NaN  San Francisco    NaN  \n",
       "3  2011    NaN  San Francisco    NaN  \n",
       "4  2011    NaN  San Francisco    NaN  "
      ]
     },
     "execution_count": 30,
     "metadata": {},
     "output_type": "execute_result"
    }
   ],
   "source": [
    "import numpy as np\n",
    "import pandas as pd\n",
    "\n",
    "def convert_to_float(s):\n",
    "    try:\n",
    "        return float(s)\n",
    "    except ValueError:\n",
    "        return np.nan\n",
    "\n",
    "df = pd.read_csv(\"./data/SF-Salaries/Salaries.csv.bz2\", \n",
    "                 converters = {'BasePay': convert_to_float,\n",
    "                              'OvertimePay': convert_to_float,\n",
    "                              'OtherPay': convert_to_float,\n",
    "                              'Benefits': convert_to_float},\n",
    "                 dtype = {'Status': str})\n",
    "\n",
    "df.head()"
   ]
  },
  {
   "cell_type": "code",
   "execution_count": 31,
   "metadata": {},
   "outputs": [
    {
     "name": "stdout",
     "output_type": "stream",
     "text": [
      "-166.01\n",
      "          Id     EmployeeName      JobTitle  BasePay  OvertimePay  OtherPay  \\\n",
      "72832  72833   Irwin Sidharta  Junior Clerk  -166.01       249.02       0.0   \n",
      "72865  72866     Robert Scott  Junior Clerk  -121.63       182.70       0.0   \n",
      "72872  72873  Chung Huey Kung  Junior Clerk  -109.22       163.83       0.0   \n",
      "72874  72875        Jordan Li  Junior Clerk  -106.60       159.90       0.0   \n",
      "72878  72879  Richard Jackson  Junior Clerk  -101.88       153.08       0.0   \n",
      "\n",
      "       Benefits  TotalPay  TotalPayBenefits  Year  Notes         Agency Status  \n",
      "72832      6.56     83.01             89.57  2012    NaN  San Francisco    NaN  \n",
      "72865      5.44     61.07             66.51  2012    NaN  San Francisco    NaN  \n",
      "72872      4.32     54.61             58.93  2012    NaN  San Francisco    NaN  \n",
      "72874      4.66     53.30             57.96  2012    NaN  San Francisco    NaN  \n",
      "72878      4.55     51.20             55.75  2012    NaN  San Francisco    NaN  \n"
     ]
    }
   ],
   "source": [
    "print(df[\"BasePay\"].min())\n",
    "\n",
    "print(df.sort_values(\"BasePay\").head())"
   ]
  },
  {
   "cell_type": "code",
   "execution_count": 32,
   "metadata": {},
   "outputs": [
    {
     "name": "stdout",
     "output_type": "stream",
     "text": [
      "319275.01\n",
      "            Id          EmployeeName                      JobTitle    BasePay  \\\n",
      "72925    72926        Gregory P Suhr               Chief of Police  319275.01   \n",
      "110532  110533            Amy P Hart             Asst Med Examiner  318835.49   \n",
      "72929    72930         Robert L Shaw  Dep Dir for Investments, Ret  315572.01   \n",
      "72926    72927  Joanne M Hayes-White        Chief, Fire Department  313686.01   \n",
      "72931    72932     Harlan L Kelly-Jr   Executive Contract Employee  313312.52   \n",
      "\n",
      "        OvertimePay  OtherPay  Benefits   TotalPay  TotalPayBenefits  Year  \\\n",
      "72925          0.00  20007.06  86533.21  339282.07         425815.28  2013   \n",
      "110532     10712.95  60563.54  89540.23  390111.98         479652.21  2014   \n",
      "72929          0.00      0.00  82849.66  315572.01         398421.67  2013   \n",
      "72926          0.00  23236.00  85431.39  336922.01         422353.40  2013   \n",
      "72931          0.00      0.00  82319.51  313312.52         395632.03  2013   \n",
      "\n",
      "        Notes         Agency Status  \n",
      "72925     NaN  San Francisco    NaN  \n",
      "110532    NaN  San Francisco     FT  \n",
      "72929     NaN  San Francisco    NaN  \n",
      "72926     NaN  San Francisco    NaN  \n",
      "72931     NaN  San Francisco    NaN  \n"
     ]
    }
   ],
   "source": [
    "print(df[\"BasePay\"].max())\n",
    "print(df.sort_values(\"BasePay\", ascending=False).head())"
   ]
  },
  {
   "cell_type": "code",
   "execution_count": 33,
   "metadata": {},
   "outputs": [
    {
     "name": "stdout",
     "output_type": "stream",
     "text": [
      "66325.4488404877\n",
      "65007.45\n"
     ]
    }
   ],
   "source": [
    "print(df[\"BasePay\"].mean())\n",
    "print(df[\"BasePay\"].median())"
   ]
  },
  {
   "cell_type": "code",
   "execution_count": 34,
   "metadata": {},
   "outputs": [
    {
     "name": "stdout",
     "output_type": "stream",
     "text": [
      "240000.0\n",
      "50000.0\n"
     ]
    }
   ],
   "source": [
    "print(np.mean([50000, 50000, 50000, 50000, 1000000]))\n",
    "\n",
    "print(np.median([50000, 50000, 50000, 50000, 1000000]))"
   ]
  },
  {
   "cell_type": "code",
   "execution_count": 35,
   "metadata": {},
   "outputs": [
    {
     "name": "stdout",
     "output_type": "stream",
     "text": [
      "50000.0\n",
      "50000.0\n"
     ]
    }
   ],
   "source": [
    "print(np.mean([0, 50000, 100000]))\n",
    "print(np.median([0, 50000, 100000]))   \n"
   ]
  },
  {
   "cell_type": "code",
   "execution_count": 36,
   "metadata": {},
   "outputs": [
    {
     "name": "stdout",
     "output_type": "stream",
     "text": [
      "-166.01\n",
      "319275.01\n",
      "33588.2\n",
      "65007.45\n",
      "94691.05\n",
      "121036.44600000007\n"
     ]
    }
   ],
   "source": [
    "print(df[\"BasePay\"].quantile(0)) # = min\n",
    "print(df[\"BasePay\"].quantile(1))  # = max\n",
    "\n",
    "print(df[\"BasePay\"].quantile(0.25))  # 1. Quartil\n",
    "print(df[\"BasePay\"].quantile(0.5))  # 2. Quartil = Median\n",
    "print(df[\"BasePay\"].quantile(0.75))  # 3. Quartil\n",
    "print(df[\"BasePay\"].quantile(0.9))  # 90%-Quantil"
   ]
  },
  {
   "cell_type": "code",
   "execution_count": 37,
   "metadata": {},
   "outputs": [
    {
     "name": "stdout",
     "output_type": "stream",
     "text": [
      "count    148045.000000\n",
      "mean      66325.448840\n",
      "std       42764.635495\n",
      "min        -166.010000\n",
      "25%       33588.200000\n",
      "50%       65007.450000\n",
      "75%       94691.050000\n",
      "max      319275.010000\n",
      "Name: BasePay, dtype: float64\n",
      "1828814049.0424156\n",
      "42764.63549525958\n"
     ]
    }
   ],
   "source": [
    "print(df[\"BasePay\"].describe()) # Statistische Grundwerte\n",
    "print(df[\"BasePay\"].var()) # Varianz\n",
    "print(df[\"BasePay\"].std()) # Standardabweichung"
   ]
  },
  {
   "cell_type": "markdown",
   "metadata": {},
   "source": [
    "## Varianz\n",
    "$$\n",
    "s^2 = \\frac{1}{n - 1} \\sum_{i=1}^{n} (x_i - \\bar{x})^2\n",
    "$$"
   ]
  },
  {
   "cell_type": "markdown",
   "metadata": {},
   "source": []
  },
  {
   "cell_type": "code",
   "execution_count": 38,
   "metadata": {},
   "outputs": [
    {
     "data": {
      "text/plain": [
       "np.float64(1828801695.946681)"
      ]
     },
     "execution_count": 38,
     "metadata": {},
     "output_type": "execute_result"
    }
   ],
   "source": [
    "x_strich = df[\"BasePay\"].mean()\n",
    "\n",
    "np.mean((df[\"BasePay\"] - x_strich) ** 2) # Rundungsfehler im Vergleich zur optimierten np.var()"
   ]
  },
  {
   "cell_type": "code",
   "execution_count": 39,
   "metadata": {},
   "outputs": [
    {
     "data": {
      "text/plain": [
       "np.float64(0.0)"
      ]
     },
     "execution_count": 39,
     "metadata": {},
     "output_type": "execute_result"
    }
   ],
   "source": [
    "np.var([10, 10, 10, 10, 10]) # Varianz"
   ]
  },
  {
   "cell_type": "code",
   "execution_count": 40,
   "metadata": {},
   "outputs": [
    {
     "data": {
      "text/plain": [
       "np.float64(80.0)"
      ]
     },
     "execution_count": 40,
     "metadata": {},
     "output_type": "execute_result"
    }
   ],
   "source": [
    "np.var([0, 0, 10, 20, 20])"
   ]
  },
  {
   "cell_type": "code",
   "execution_count": 41,
   "metadata": {},
   "outputs": [
    {
     "data": {
      "text/plain": [
       "np.float64(0.0)"
      ]
     },
     "execution_count": 41,
     "metadata": {},
     "output_type": "execute_result"
    }
   ],
   "source": [
    "# Wurzel der Varianz = Standardabweichung\n",
    "np.std([10, 10, 10, 10, 10]) # Standardabweichung"
   ]
  },
  {
   "cell_type": "code",
   "execution_count": 42,
   "metadata": {},
   "outputs": [
    {
     "data": {
      "text/plain": [
       "np.float64(8.94427190999916)"
      ]
     },
     "execution_count": 42,
     "metadata": {},
     "output_type": "execute_result"
    }
   ],
   "source": [
    "np.std([0, 0, 10, 20, 20]) # Standardabweichung"
   ]
  },
  {
   "cell_type": "code",
   "execution_count": null,
   "metadata": {},
   "outputs": [],
   "source": []
  },
  {
   "cell_type": "markdown",
   "metadata": {},
   "source": []
  },
  {
   "cell_type": "markdown",
   "metadata": {},
   "source": []
  },
  {
   "cell_type": "code",
   "execution_count": null,
   "metadata": {},
   "outputs": [],
   "source": []
  },
  {
   "cell_type": "code",
   "execution_count": null,
   "metadata": {},
   "outputs": [],
   "source": []
  },
  {
   "cell_type": "code",
   "execution_count": null,
   "metadata": {},
   "outputs": [],
   "source": []
  }
 ],
 "metadata": {
  "kernelspec": {
   "display_name": "jupyter-notebooks",
   "language": "python",
   "name": "python3"
  },
  "language_info": {
   "codemirror_mode": {
    "name": "ipython",
    "version": 3
   },
   "file_extension": ".py",
   "mimetype": "text/x-python",
   "name": "python",
   "nbconvert_exporter": "python",
   "pygments_lexer": "ipython3",
   "version": "3.13.2"
  }
 },
 "nbformat": 4,
 "nbformat_minor": 4
}
