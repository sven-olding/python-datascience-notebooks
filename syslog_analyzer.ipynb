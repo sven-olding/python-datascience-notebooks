{
 "cells": [
  {
   "cell_type": "code",
   "execution_count": 1,
   "id": "6c67ecbc-d7b3-41e7-9c9f-38996a9cfc60",
   "metadata": {},
   "outputs": [],
   "source": [
    "import os\n",
    "import zipfile\n",
    "\n",
    "data_path = \"../udemy/Kursmaterialien/data/\"\n",
    "folder = \"syslog\"\n",
    "zip_file = folder + \".zip\"\n",
    "complete_path = os.path.join(data_path, folder)\n",
    "\n",
    "if not os.path.exists(complete_path):\n",
    "    with zipfile.ZipFile(os.path.join(data_path, zip_file)) as z:\n",
    "        z.extractall(complete_path)"
   ]
  },
  {
   "cell_type": "code",
   "execution_count": 12,
   "id": "fdd816ed-32ff-4afc-9955-dddefd915a50",
   "metadata": {},
   "outputs": [
    {
     "name": "stdout",
     "output_type": "stream",
     "text": [
      "Line count: 6677\n",
      "Blocked: 6191\n",
      "From IP 94.102.51.28: 334\n"
     ]
    }
   ],
   "source": [
    "log_file_path = os.path.join(complete_path, folder) #\"data/syslog/syslog\"\n",
    "with open(log_file_path, encoding = \"utf-8\") as log_file:\n",
    "    log = log_file.read()\n",
    "    lines = len(log.split(\"\\n\"))-1\n",
    "    blocked = log.count(\"[UFW BLOCK]\")\n",
    "    from_ip = log.count(\"94.102.51.28\")\n",
    "    print(f\"Line count: {lines}\")\n",
    "    print(f\"Blocked: {blocked}\")\n",
    "    print(f\"From IP 94.102.51.28: {from_ip}\")"
   ]
  },
  {
   "cell_type": "code",
   "execution_count": null,
   "id": "21b2c438-de52-4ac5-b282-feb44068904b",
   "metadata": {},
   "outputs": [],
   "source": []
  }
 ],
 "metadata": {
  "kernelspec": {
   "display_name": "Python 3 (ipykernel)",
   "language": "python",
   "name": "python3"
  },
  "language_info": {
   "codemirror_mode": {
    "name": "ipython",
    "version": 3
   },
   "file_extension": ".py",
   "mimetype": "text/x-python",
   "name": "python",
   "nbconvert_exporter": "python",
   "pygments_lexer": "ipython3",
   "version": "3.13.2"
  }
 },
 "nbformat": 4,
 "nbformat_minor": 5
}
