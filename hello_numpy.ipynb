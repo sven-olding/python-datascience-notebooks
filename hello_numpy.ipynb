{
 "cells": [
  {
   "cell_type": "code",
   "execution_count": 1,
   "id": "ef70cc5b-8ca6-4d2d-be81-5e5982eddd8e",
   "metadata": {},
   "outputs": [],
   "source": [
    "import numpy as np"
   ]
  },
  {
   "cell_type": "code",
   "execution_count": 2,
   "id": "ba30ce54-13a6-4187-a3e9-018afd352c34",
   "metadata": {},
   "outputs": [],
   "source": [
    "x = np.array([1, 2, 3, 4, 5, 6, 7, 8, 9, 10])"
   ]
  },
  {
   "cell_type": "code",
   "execution_count": 3,
   "id": "f9a5c953-6960-4fbb-99c3-0df00e2bb63d",
   "metadata": {},
   "outputs": [
    {
     "data": {
      "text/plain": [
       "array([ 3,  4,  5,  6,  7,  8,  9, 10, 11, 12])"
      ]
     },
     "execution_count": 3,
     "metadata": {},
     "output_type": "execute_result"
    }
   ],
   "source": [
    "x + 2"
   ]
  },
  {
   "cell_type": "code",
   "execution_count": 4,
   "id": "8c21378f-8feb-4f9c-8971-456320daef67",
   "metadata": {},
   "outputs": [
    {
     "data": {
      "text/plain": [
       "array([0., 0., 0., 0., 0., 0., 0., 0., 0., 0.])"
      ]
     },
     "execution_count": 4,
     "metadata": {},
     "output_type": "execute_result"
    }
   ],
   "source": [
    "np.zeros(10)"
   ]
  },
  {
   "cell_type": "code",
   "execution_count": 5,
   "id": "a4cabc00-8659-42da-a67d-9c4fbbcaeb26",
   "metadata": {},
   "outputs": [
    {
     "data": {
      "text/plain": [
       "array([1. , 1.5, 2. , 2.5, 3. , 3.5, 4. , 4.5, 5. , 5.5, 6. , 6.5, 7. ,\n",
       "       7.5, 8. , 8.5, 9. , 9.5])"
      ]
     },
     "execution_count": 5,
     "metadata": {},
     "output_type": "execute_result"
    }
   ],
   "source": [
    "np.arange(1, 10, 0.5)"
   ]
  },
  {
   "cell_type": "code",
   "execution_count": 6,
   "id": "0fa4f0b0-4e13-4e17-a316-b6bf21acfa5f",
   "metadata": {},
   "outputs": [
    {
     "name": "stdout",
     "output_type": "stream",
     "text": [
      "[1 5 9]\n",
      "[1 2 3]\n",
      "xs + a = [ 2  7 12]\n"
     ]
    }
   ],
   "source": [
    "xs = np.array([1, 5, 9])\n",
    "a = np.arange(1, 4)\n",
    "\n",
    "print(xs)\n",
    "print(a)\n",
    "print(f\"xs + a = {xs + a}\")"
   ]
  },
  {
   "cell_type": "code",
   "execution_count": 7,
   "id": "64c90fae-9ccd-4c07-bd75-e06dbb4815f0",
   "metadata": {},
   "outputs": [
    {
     "data": {
      "text/plain": [
       "array([ True, False, False])"
      ]
     },
     "execution_count": 7,
     "metadata": {},
     "output_type": "execute_result"
    }
   ],
   "source": [
    "xs <= a"
   ]
  },
  {
   "cell_type": "markdown",
   "id": "b327f1f6-120d-4a10-a7f0-997413251f08",
   "metadata": {},
   "source": [
    "# Mehrdimensionale Daten"
   ]
  },
  {
   "cell_type": "code",
   "execution_count": 10,
   "id": "fadfe347-33bf-4635-a5b4-3da62849d581",
   "metadata": {},
   "outputs": [
    {
     "name": "stdout",
     "output_type": "stream",
     "text": [
      "(3, 5)\n"
     ]
    }
   ],
   "source": [
    "xs = np.array([\n",
    "    [1, 6, 4, 2, -1],\n",
    "    [9, -3, 2, -1, -2],\n",
    "    [2, 3, -4, 5, 6]\n",
    "])\n",
    "\n",
    "print(xs.shape)"
   ]
  },
  {
   "cell_type": "code",
   "execution_count": 14,
   "id": "12d55382-ac98-4fed-b7a3-dbbcf1490411",
   "metadata": {},
   "outputs": [
    {
     "name": "stdout",
     "output_type": "stream",
     "text": [
      "2\n"
     ]
    }
   ],
   "source": [
    "print(xs[1][2])"
   ]
  },
  {
   "cell_type": "code",
   "execution_count": 15,
   "id": "3995b8a8-955c-4842-a3cc-0de195b54cb0",
   "metadata": {},
   "outputs": [],
   "source": [
    "xs[1][2] = 42"
   ]
  },
  {
   "cell_type": "code",
   "execution_count": 16,
   "id": "957bce47-4d23-499c-a76c-e6984c5632a5",
   "metadata": {},
   "outputs": [
    {
     "name": "stdout",
     "output_type": "stream",
     "text": [
      "42\n"
     ]
    }
   ],
   "source": [
    "print(xs[1][2])"
   ]
  },
  {
   "cell_type": "code",
   "execution_count": 17,
   "id": "4fb43e2d-7a6e-4aa3-bdc2-5e916ec1e47c",
   "metadata": {},
   "outputs": [],
   "source": [
    "xs[:, 2] = np.array([11, 12, 13])"
   ]
  },
  {
   "cell_type": "code",
   "execution_count": 18,
   "id": "af9b06f0-9958-4e40-b333-cf455c3a183a",
   "metadata": {},
   "outputs": [
    {
     "name": "stdout",
     "output_type": "stream",
     "text": [
      "[[ 1  6 11  2 -1]\n",
      " [ 9 -3 12 -1 -2]\n",
      " [ 2  3 13  5  6]]\n"
     ]
    }
   ],
   "source": [
    "print(xs)"
   ]
  },
  {
   "cell_type": "markdown",
   "id": "f03bcf74-533a-4989-bcbf-7c19318d85df",
   "metadata": {},
   "source": [
    "# Reshape"
   ]
  },
  {
   "cell_type": "code",
   "execution_count": 19,
   "id": "246549f7-b9c2-42e7-b30e-6dcf287a73fb",
   "metadata": {},
   "outputs": [],
   "source": [
    "xs = np.array([\n",
    "    [1, 6, 4, 2, -1],\n",
    "    [9, -3, 2, -1, -2],\n",
    "    [2, 3, -4, 5, 6]\n",
    "])"
   ]
  },
  {
   "cell_type": "code",
   "execution_count": 20,
   "id": "86739fb3-c8ab-4d37-933d-d86e79da1f3c",
   "metadata": {},
   "outputs": [
    {
     "name": "stdout",
     "output_type": "stream",
     "text": [
      "[ 1  6  4  2 -1  9 -3  2 -1 -2  2  3 -4  5  6]\n"
     ]
    }
   ],
   "source": [
    "print(xs.reshape(-1))"
   ]
  },
  {
   "cell_type": "code",
   "execution_count": 22,
   "id": "2eefc69e-a5dc-47a8-aa7c-e9766ed6be98",
   "metadata": {},
   "outputs": [
    {
     "data": {
      "text/plain": [
       "array([[ 1,  6,  4],\n",
       "       [ 2, -1,  9],\n",
       "       [-3,  2, -1],\n",
       "       [-2,  2,  3],\n",
       "       [-4,  5,  6]])"
      ]
     },
     "execution_count": 22,
     "metadata": {},
     "output_type": "execute_result"
    }
   ],
   "source": [
    "xs.reshape(5, 3)"
   ]
  },
  {
   "cell_type": "code",
   "execution_count": 25,
   "id": "99f015e1-acc3-4164-8fb0-971dc8f9b1f5",
   "metadata": {},
   "outputs": [
    {
     "data": {
      "text/plain": [
       "array([[ 1,  6,  4,  2, -1],\n",
       "       [ 9, -3,  2, -1, -2],\n",
       "       [ 2,  3, -4,  5,  6]])"
      ]
     },
     "execution_count": 25,
     "metadata": {},
     "output_type": "execute_result"
    }
   ],
   "source": [
    "xs.reshape(-1, 5)"
   ]
  },
  {
   "cell_type": "code",
   "execution_count": 26,
   "id": "55b13520-8843-45b7-a0ae-c3775e317340",
   "metadata": {},
   "outputs": [
    {
     "data": {
      "text/plain": [
       "array([[ 1],\n",
       "       [ 6],\n",
       "       [ 4],\n",
       "       [ 2],\n",
       "       [-1],\n",
       "       [ 9],\n",
       "       [-3],\n",
       "       [ 2],\n",
       "       [-1],\n",
       "       [-2],\n",
       "       [ 2],\n",
       "       [ 3],\n",
       "       [-4],\n",
       "       [ 5],\n",
       "       [ 6]])"
      ]
     },
     "execution_count": 26,
     "metadata": {},
     "output_type": "execute_result"
    }
   ],
   "source": [
    "xs.reshape(-1, 1)"
   ]
  },
  {
   "cell_type": "markdown",
   "id": "b94d8d5c-7c15-4a70-b47b-958338ca76ad",
   "metadata": {},
   "source": [
    "# Operationen"
   ]
  },
  {
   "cell_type": "code",
   "execution_count": 28,
   "id": "dc7ca139-df62-4704-bd3c-16ae572e9a28",
   "metadata": {},
   "outputs": [],
   "source": [
    "xs = np.array([\n",
    "    [1, 6, 4, 2, -1],\n",
    "    [9, -3, 2, -1, -2],\n",
    "    [2, 3, -4, 5, 6]\n",
    "])"
   ]
  },
  {
   "cell_type": "code",
   "execution_count": 29,
   "id": "4a43f41e-b8d5-4f75-9885-4025e7db01d4",
   "metadata": {},
   "outputs": [
    {
     "name": "stdout",
     "output_type": "stream",
     "text": [
      "-4\n",
      "9\n",
      "1.9333333333333333\n"
     ]
    }
   ],
   "source": [
    "print(xs.min())\n",
    "print(xs.max())\n",
    "print(xs.mean())"
   ]
  },
  {
   "cell_type": "code",
   "execution_count": 31,
   "id": "51a89c80-3b84-4719-948f-58c37d367c7c",
   "metadata": {},
   "outputs": [
    {
     "name": "stdout",
     "output_type": "stream",
     "text": [
      "[ 1 -3 -4 -1 -2]\n"
     ]
    }
   ],
   "source": [
    "print(xs.min(axis = 0)) # Min pro Spalte"
   ]
  },
  {
   "cell_type": "code",
   "execution_count": 32,
   "id": "ae78d1d1-1c39-4916-9dfd-9264e3708f38",
   "metadata": {},
   "outputs": [
    {
     "data": {
      "text/plain": [
       "array([-1, -3, -4])"
      ]
     },
     "execution_count": 32,
     "metadata": {},
     "output_type": "execute_result"
    }
   ],
   "source": [
    "xs.min(axis=1) # Min pro Zeile"
   ]
  },
  {
   "cell_type": "code",
   "execution_count": 34,
   "id": "b73d4c47-92bb-4e92-86d3-3f49ddf1205e",
   "metadata": {},
   "outputs": [],
   "source": [
    "x = np.array([5, 3, 4, 2, 1, 9, 5])"
   ]
  },
  {
   "cell_type": "code",
   "execution_count": 37,
   "id": "c02a2a4f-4adb-4873-9aa1-22fe00420dde",
   "metadata": {},
   "outputs": [
    {
     "name": "stdout",
     "output_type": "stream",
     "text": [
      "0\n",
      "5\n"
     ]
    }
   ],
   "source": [
    "print(x.argmin())\n",
    "print(x.argmax())"
   ]
  },
  {
   "cell_type": "code",
   "execution_count": null,
   "id": "df189092-b59a-425b-a97d-e0ad07e3c12f",
   "metadata": {},
   "outputs": [],
   "source": []
  }
 ],
 "metadata": {
  "kernelspec": {
   "display_name": "Python 3 (ipykernel)",
   "language": "python",
   "name": "python3"
  },
  "language_info": {
   "codemirror_mode": {
    "name": "ipython",
    "version": 3
   },
   "file_extension": ".py",
   "mimetype": "text/x-python",
   "name": "python",
   "nbconvert_exporter": "python",
   "pygments_lexer": "ipython3",
   "version": "3.13.2"
  }
 },
 "nbformat": 4,
 "nbformat_minor": 5
}
