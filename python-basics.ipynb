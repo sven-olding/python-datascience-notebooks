{
 "cells": [
  {
   "cell_type": "markdown",
   "id": "1ec93b40-09e8-422e-b77b-39f500693712",
   "metadata": {},
   "source": [
    "# Class with simple input and for loop"
   ]
  },
  {
   "cell_type": "code",
   "execution_count": 1,
   "id": "208c2845-224e-4859-a5d8-140c6cd4f092",
   "metadata": {},
   "outputs": [],
   "source": [
    "class Order:\n",
    "    def __init__(self, order_id, last_name, first_name):\n",
    "        self.order_id = order_id\n",
    "        self.last_name = last_name\n",
    "        self.first_name = first_name"
   ]
  },
  {
   "cell_type": "code",
   "execution_count": 2,
   "id": "f2d69157-ece6-4bf8-9156-b980d9a714ba",
   "metadata": {},
   "outputs": [],
   "source": [
    "order_list =[Order(1, \"Olding\", \"Sven\"), Order(2, \"Frühsorger\", \"Irene\"), Order(3, \"Li\", \"Qian\"), Order(4, \"Wurst\", \"Hans\")]"
   ]
  },
  {
   "cell_type": "code",
   "execution_count": 3,
   "id": "cca34c1a-ebf5-445d-ab38-2c60dd7acb76",
   "metadata": {},
   "outputs": [],
   "source": [
    "def find_order(order_id, order_list):\n",
    "    for o in order_list:\n",
    "        if o.order_id == order_id:\n",
    "            return o"
   ]
  },
  {
   "cell_type": "code",
   "execution_count": 4,
   "id": "80a0cc27-4c80-4d1a-96d6-6bf952f60316",
   "metadata": {},
   "outputs": [
    {
     "ename": "ValueError",
     "evalue": "invalid literal for int() with base 10: ''",
     "output_type": "error",
     "traceback": [
      "\u001b[0;31m---------------------------------------------------------------------------\u001b[0m",
      "\u001b[0;31mValueError\u001b[0m                                Traceback (most recent call last)",
      "Cell \u001b[0;32mIn[4], line 1\u001b[0m\n\u001b[0;32m----> 1\u001b[0m look_for \u001b[38;5;241m=\u001b[39m \u001b[38;5;28mint\u001b[39m(\u001b[38;5;28minput\u001b[39m(\u001b[38;5;124m\"\u001b[39m\u001b[38;5;124mWelche Bestellnummer?\u001b[39m\u001b[38;5;124m\"\u001b[39m))\n",
      "\u001b[0;31mValueError\u001b[0m: invalid literal for int() with base 10: ''"
     ]
    }
   ],
   "source": [
    "look_for = int(input(\"Welche Bestellnummer?\"))"
   ]
  },
  {
   "cell_type": "code",
   "execution_count": 52,
   "id": "b4957c54-007c-4228-b520-5d5741c1c627",
   "metadata": {},
   "outputs": [],
   "source": [
    "order = find_order(look_for, order_list)"
   ]
  },
  {
   "cell_type": "code",
   "execution_count": 53,
   "id": "1acd789f-acbc-4609-ba79-9814d3b133e0",
   "metadata": {},
   "outputs": [
    {
     "name": "stdout",
     "output_type": "stream",
     "text": [
      "Li, Qian\n"
     ]
    }
   ],
   "source": [
    "print(order.last_name + \", \" + order.first_name)"
   ]
  },
  {
   "cell_type": "markdown",
   "id": "10c35975-3948-4c92-877f-e4578de43105",
   "metadata": {},
   "source": [
    "# List comprehension (listcomp)"
   ]
  },
  {
   "cell_type": "code",
   "execution_count": 1,
   "id": "eb3c3f1f-be92-452e-b5af-d30e4a3e324a",
   "metadata": {},
   "outputs": [],
   "source": [
    "sizes = [\"XS\", \"S\", \"M\", \"L\", \"XL\", \"XXL\"]\n",
    "colors = [\"black\", \"white\", \"blue\", \"red\"]"
   ]
  },
  {
   "cell_type": "code",
   "execution_count": 2,
   "id": "b3b47cd2-1096-4e6c-8d12-f577fc2eea9d",
   "metadata": {},
   "outputs": [],
   "source": [
    "tshirts = [(color, size) for color in colors \n",
    "                           for size in sizes]"
   ]
  },
  {
   "cell_type": "code",
   "execution_count": 3,
   "id": "6029e1b7-44bd-4c48-a6ac-14568270daa0",
   "metadata": {},
   "outputs": [
    {
     "data": {
      "text/plain": [
       "[('black', 'XS'),\n",
       " ('black', 'S'),\n",
       " ('black', 'M'),\n",
       " ('black', 'L'),\n",
       " ('black', 'XL'),\n",
       " ('black', 'XXL'),\n",
       " ('white', 'XS'),\n",
       " ('white', 'S'),\n",
       " ('white', 'M'),\n",
       " ('white', 'L'),\n",
       " ('white', 'XL'),\n",
       " ('white', 'XXL'),\n",
       " ('blue', 'XS'),\n",
       " ('blue', 'S'),\n",
       " ('blue', 'M'),\n",
       " ('blue', 'L'),\n",
       " ('blue', 'XL'),\n",
       " ('blue', 'XXL'),\n",
       " ('red', 'XS'),\n",
       " ('red', 'S'),\n",
       " ('red', 'M'),\n",
       " ('red', 'L'),\n",
       " ('red', 'XL'),\n",
       " ('red', 'XXL')]"
      ]
     },
     "execution_count": 3,
     "metadata": {},
     "output_type": "execute_result"
    }
   ],
   "source": [
    "tshirts"
   ]
  },
  {
   "cell_type": "markdown",
   "id": "4b56ff3a-678b-4acf-8a2d-7db16226034c",
   "metadata": {},
   "source": [
    "# Generator Expression genexp"
   ]
  },
  {
   "cell_type": "code",
   "execution_count": 4,
   "id": "a52c8ec5-b961-4df9-af8c-11553468850f",
   "metadata": {},
   "outputs": [],
   "source": [
    "symbols = \"$¢£¥€¤\""
   ]
  },
  {
   "cell_type": "code",
   "execution_count": 5,
   "id": "54b45377-c64b-480a-b53f-5d46ea4b9a8d",
   "metadata": {},
   "outputs": [
    {
     "data": {
      "text/plain": [
       "(36, 162, 163, 165, 8364, 164)"
      ]
     },
     "execution_count": 5,
     "metadata": {},
     "output_type": "execute_result"
    }
   ],
   "source": [
    "tuple(ord(symbol) for symbol in symbols)"
   ]
  },
  {
   "cell_type": "code",
   "execution_count": 6,
   "id": "3d38aedf-a127-40a0-834f-4b9c038183a5",
   "metadata": {},
   "outputs": [
    {
     "data": {
      "text/plain": [
       "array('I', [36, 162, 163, 165, 8364, 164])"
      ]
     },
     "execution_count": 6,
     "metadata": {},
     "output_type": "execute_result"
    }
   ],
   "source": [
    "import array\n",
    "array.array(\"I\", (ord(symbol) for symbol in symbols))"
   ]
  },
  {
   "cell_type": "markdown",
   "id": "da4f7d2b-d08a-4a02-abc2-aac92ed8b307",
   "metadata": {},
   "source": [
    "# Tuples"
   ]
  },
  {
   "cell_type": "code",
   "execution_count": 10,
   "id": "de4bc116-9705-4013-b645-810be3bd18fd",
   "metadata": {},
   "outputs": [],
   "source": [
    "lax_coordinates = (33.9425, -118.408056)\n",
    "city, year, pop, chg, area = ('Tokyo', 2003, 32_450, 0.66, 8014)\n",
    "traveler_ids = [('USA', '31195855'), ('BRA', 'CE342567'), ('ESP', 'XDA205856')]"
   ]
  },
  {
   "cell_type": "code",
   "execution_count": 13,
   "id": "d7e42b58-c586-4bba-a57b-3ef7d1c93cdf",
   "metadata": {},
   "outputs": [
    {
     "data": {
      "text/plain": [
       "'Tokyo'"
      ]
     },
     "execution_count": 13,
     "metadata": {},
     "output_type": "execute_result"
    }
   ],
   "source": [
    "city"
   ]
  },
  {
   "cell_type": "code",
   "execution_count": 14,
   "id": "c51de31e-3d41-4eb9-ad5d-5021eca60d5e",
   "metadata": {},
   "outputs": [
    {
     "data": {
      "text/plain": [
       "32450"
      ]
     },
     "execution_count": 14,
     "metadata": {},
     "output_type": "execute_result"
    }
   ],
   "source": [
    "pop"
   ]
  },
  {
   "cell_type": "code",
   "execution_count": 11,
   "id": "e1bd515a-6fe4-49f9-a8c1-544a5b46a37f",
   "metadata": {},
   "outputs": [
    {
     "name": "stdout",
     "output_type": "stream",
     "text": [
      "BRA/CE342567\n",
      "ESP/XDA205856\n",
      "USA/31195855\n"
     ]
    }
   ],
   "source": [
    "for passport in sorted(traveler_ids):\n",
    "    print(\"%s/%s\" % passport)"
   ]
  },
  {
   "cell_type": "code",
   "execution_count": 12,
   "id": "e990c259-a5fd-4d12-a9e2-8ad274475fa2",
   "metadata": {},
   "outputs": [
    {
     "name": "stdout",
     "output_type": "stream",
     "text": [
      "USA\n",
      "BRA\n",
      "ESP\n"
     ]
    }
   ],
   "source": [
    "for country, _ in traveler_ids:\n",
    "    print(country)"
   ]
  },
  {
   "cell_type": "markdown",
   "id": "4a7fe8ea-78ca-40f3-ada6-c603fef922fb",
   "metadata": {},
   "source": [
    "## Tuple reference mutability"
   ]
  },
  {
   "cell_type": "code",
   "execution_count": 1,
   "id": "c4ba415e-f20a-4a9b-8e3c-4e86cacf3d04",
   "metadata": {},
   "outputs": [
    {
     "data": {
      "text/plain": [
       "True"
      ]
     },
     "execution_count": 1,
     "metadata": {},
     "output_type": "execute_result"
    }
   ],
   "source": [
    "a = (10, \"alpha\", [4, 5])\n",
    "b = (10, \"alpha\", [4, 5])\n",
    "a == b"
   ]
  },
  {
   "cell_type": "code",
   "execution_count": 2,
   "id": "ea171e36-3ee7-4ad5-949b-32ac9d4b939c",
   "metadata": {},
   "outputs": [
    {
     "data": {
      "text/plain": [
       "False"
      ]
     },
     "execution_count": 2,
     "metadata": {},
     "output_type": "execute_result"
    }
   ],
   "source": [
    "b[-1].append(99)\n",
    "a == b"
   ]
  },
  {
   "cell_type": "code",
   "execution_count": 3,
   "id": "9aea151f-0a4f-4181-a20a-092f03d90d3d",
   "metadata": {},
   "outputs": [
    {
     "data": {
      "text/plain": [
       "(10, 'alpha', [4, 5, 99])"
      ]
     },
     "execution_count": 3,
     "metadata": {},
     "output_type": "execute_result"
    }
   ],
   "source": [
    "b"
   ]
  },
  {
   "cell_type": "code",
   "execution_count": 4,
   "id": "d9c97e5e-169e-43fa-876d-d39953ddc980",
   "metadata": {},
   "outputs": [
    {
     "data": {
      "text/plain": [
       "(10, 'alpha', [4, 5])"
      ]
     },
     "execution_count": 4,
     "metadata": {},
     "output_type": "execute_result"
    }
   ],
   "source": [
    "a"
   ]
  },
  {
   "cell_type": "markdown",
   "id": "4430dddd-5a3c-4005-9ee9-4524e51e4537",
   "metadata": {},
   "source": [
    "# Unpacking sequences"
   ]
  },
  {
   "cell_type": "code",
   "execution_count": 6,
   "id": "44e205e7-ab91-4454-b29f-5268b86d6c08",
   "metadata": {},
   "outputs": [
    {
     "data": {
      "text/plain": [
       "33.9425"
      ]
     },
     "execution_count": 6,
     "metadata": {},
     "output_type": "execute_result"
    }
   ],
   "source": [
    "lax_coordinates = (33.9425, -118.408056)\n",
    "lat, long = lax_coordinates\n",
    "lat"
   ]
  },
  {
   "cell_type": "code",
   "execution_count": 7,
   "id": "fdfab0a7-d2d6-4153-9104-011d331792e7",
   "metadata": {},
   "outputs": [
    {
     "data": {
      "text/plain": [
       "-118.408056"
      ]
     },
     "execution_count": 7,
     "metadata": {},
     "output_type": "execute_result"
    }
   ],
   "source": [
    "long"
   ]
  },
  {
   "cell_type": "code",
   "execution_count": 8,
   "id": "5f7f36c2-25f5-4f40-8bec-55655cd4a614",
   "metadata": {},
   "outputs": [
    {
     "data": {
      "text/plain": [
       "(2, 4)"
      ]
     },
     "execution_count": 8,
     "metadata": {},
     "output_type": "execute_result"
    }
   ],
   "source": [
    "divmod(20, 8)"
   ]
  },
  {
   "cell_type": "code",
   "execution_count": 9,
   "id": "19b478b9-1060-485e-9f7d-89f3497c743b",
   "metadata": {},
   "outputs": [
    {
     "data": {
      "text/plain": [
       "(2, 4)"
      ]
     },
     "execution_count": 9,
     "metadata": {},
     "output_type": "execute_result"
    }
   ],
   "source": [
    "t = (20, 8)\n",
    "divmod(*t)"
   ]
  },
  {
   "cell_type": "code",
   "execution_count": 10,
   "id": "1ce8bbf3-778e-408c-b156-99a6ddc1c395",
   "metadata": {},
   "outputs": [
    {
     "data": {
      "text/plain": [
       "(2, 4)"
      ]
     },
     "execution_count": 10,
     "metadata": {},
     "output_type": "execute_result"
    }
   ],
   "source": [
    "quotient, remainder = divmod(*t)\n",
    "quotient, remainder"
   ]
  },
  {
   "cell_type": "code",
   "execution_count": 11,
   "id": "5a1e18c6-81c3-4969-9afe-d551839fbf80",
   "metadata": {},
   "outputs": [
    {
     "data": {
      "text/plain": [
       "(0, 1, [2, 3, 4])"
      ]
     },
     "execution_count": 11,
     "metadata": {},
     "output_type": "execute_result"
    }
   ],
   "source": [
    "a, b, *rest = range(5)\n",
    "a, b, rest"
   ]
  },
  {
   "cell_type": "markdown",
   "id": "4b61dc3e-2a50-4662-bab5-df95cb708f6e",
   "metadata": {},
   "source": [
    "# Pattern Matching"
   ]
  },
  {
   "cell_type": "code",
   "execution_count": 12,
   "id": "24a19607-0f1d-4c26-b3d2-41db82001fea",
   "metadata": {},
   "outputs": [],
   "source": [
    "metro_areas = [('Tokyo', 'JP', 36.933, (35.689722, 139.691667)),\n",
    "    ('Delhi NCR', 'IN', 21.935, (28.613889, 77.208889)),\n",
    "    ('Mexico City', 'MX', 20.142, (19.433333, -99.133333)),\n",
    "    ('New York-Newark', 'US', 20.104, (40.808611, -74.020386)),\n",
    "    ('São Paulo', 'BR', 19.649, (-23.547778, -46.635833)),\n",
    "]"
   ]
  },
  {
   "cell_type": "code",
   "execution_count": 14,
   "id": "9ba27bdc-8331-4fa6-ba5c-6052c15eaaf3",
   "metadata": {},
   "outputs": [
    {
     "name": "stdout",
     "output_type": "stream",
     "text": [
      "Mexico City     |   19.4333 |  -99.1333\n",
      "New York-Newark |   40.8086 |  -74.0204\n",
      "São Paulo       |  -23.5478 |  -46.6358\n"
     ]
    }
   ],
   "source": [
    "for record in metro_areas:\n",
    "    match record:\n",
    "        case [name, _, _, (lat, long)] if long <= 0:\n",
    "            print(f\"{name:15} | {lat:9.4f} | {long:9.4f}\")"
   ]
  },
  {
   "cell_type": "markdown",
   "id": "170c645a-1b6e-4a46-8fe1-c686608b628e",
   "metadata": {},
   "source": [
    "# Slicing"
   ]
  },
  {
   "cell_type": "code",
   "execution_count": 15,
   "id": "f0b140fb-b444-4170-b008-d2be8084b19d",
   "metadata": {},
   "outputs": [
    {
     "data": {
      "text/plain": [
       "[10, 20]"
      ]
     },
     "execution_count": 15,
     "metadata": {},
     "output_type": "execute_result"
    }
   ],
   "source": [
    "l = [10, 20, 30, 40, 50, 60]\n",
    "l[:2]"
   ]
  },
  {
   "cell_type": "code",
   "execution_count": 16,
   "id": "fbca8d8b-23f3-4f59-bdfa-98654a60aee5",
   "metadata": {},
   "outputs": [
    {
     "data": {
      "text/plain": [
       "[30, 40, 50, 60]"
      ]
     },
     "execution_count": 16,
     "metadata": {},
     "output_type": "execute_result"
    }
   ],
   "source": [
    "l[2:]"
   ]
  },
  {
   "cell_type": "code",
   "execution_count": 17,
   "id": "84fd7a3f-72c3-4ea4-b38f-68bb5d4165d8",
   "metadata": {},
   "outputs": [
    {
     "data": {
      "text/plain": [
       "[10, 20, 30]"
      ]
     },
     "execution_count": 17,
     "metadata": {},
     "output_type": "execute_result"
    }
   ],
   "source": [
    "l[:3]"
   ]
  },
  {
   "cell_type": "code",
   "execution_count": 18,
   "id": "b686b169-7cf5-45ce-b02c-f77a78dc6fe3",
   "metadata": {},
   "outputs": [
    {
     "data": {
      "text/plain": [
       "'bye'"
      ]
     },
     "execution_count": 18,
     "metadata": {},
     "output_type": "execute_result"
    }
   ],
   "source": [
    "s = \"bicycle\"\n",
    "s[::3]"
   ]
  },
  {
   "cell_type": "code",
   "execution_count": 19,
   "id": "6e89a41f-c022-4c16-93f2-9beabfe124bf",
   "metadata": {},
   "outputs": [
    {
     "data": {
      "text/plain": [
       "'elcycib'"
      ]
     },
     "execution_count": 19,
     "metadata": {},
     "output_type": "execute_result"
    }
   ],
   "source": [
    "s[::-1]"
   ]
  },
  {
   "cell_type": "code",
   "execution_count": 20,
   "id": "c03994e6-9de8-42d4-81b0-946f1f6508ba",
   "metadata": {},
   "outputs": [
    {
     "data": {
      "text/plain": [
       "'eccb'"
      ]
     },
     "execution_count": 20,
     "metadata": {},
     "output_type": "execute_result"
    }
   ],
   "source": [
    "s[::-2]"
   ]
  },
  {
   "cell_type": "markdown",
   "id": "942fd79c-6ce1-4962-908b-4e7284216b43",
   "metadata": {},
   "source": [
    "# Dicts"
   ]
  },
  {
   "cell_type": "markdown",
   "id": "190902b6-5c17-423a-9019-a4e81146dad9",
   "metadata": {},
   "source": [
    "## Dict comprehension"
   ]
  },
  {
   "cell_type": "code",
   "execution_count": 6,
   "id": "5204c8aa-852d-4304-91df-ad5643720281",
   "metadata": {},
   "outputs": [
    {
     "data": {
      "text/plain": [
       "{'Japan': 81,\n",
       " 'Bangladesh': 880,\n",
       " 'India': 91,\n",
       " 'China': 86,\n",
       " 'Russia': 7,\n",
       " 'Brazil': 55}"
      ]
     },
     "execution_count": 6,
     "metadata": {},
     "output_type": "execute_result"
    }
   ],
   "source": [
    "dial_codes = [\n",
    "    (81, \"Japan\"),\n",
    "    (880, \"Bangladesh\"),\n",
    "    (91, \"India\"),\n",
    "    (86, \"China\"),\n",
    "    (7, \"Russia\"),\n",
    "    (55, \"Brazil\")\n",
    "]\n",
    "\n",
    "country_dial = {country: code for code, country in dial_codes}\n",
    "country_dial"
   ]
  },
  {
   "cell_type": "code",
   "execution_count": 7,
   "id": "15ae4cfe-f2a7-49aa-8c82-86e30308d3ab",
   "metadata": {},
   "outputs": [
    {
     "data": {
      "text/plain": [
       "{880: 'BANGLADESH',\n",
       " 55: 'BRAZIL',\n",
       " 86: 'CHINA',\n",
       " 91: 'INDIA',\n",
       " 81: 'JAPAN',\n",
       " 7: 'RUSSIA'}"
      ]
     },
     "execution_count": 7,
     "metadata": {},
     "output_type": "execute_result"
    }
   ],
   "source": [
    "{code: country.upper() for country, code in sorted(country_dial.items())}"
   ]
  },
  {
   "cell_type": "markdown",
   "id": "492fb403-6d9e-4cbf-af0b-15147576007b",
   "metadata": {},
   "source": [
    "## Merge mappings"
   ]
  },
  {
   "cell_type": "code",
   "execution_count": 12,
   "id": "e1df8cfa-43a8-4936-9e28-54e409c805f6",
   "metadata": {},
   "outputs": [
    {
     "data": {
      "text/plain": [
       "{'a': 2, 'b': 3, 'c': 4}"
      ]
     },
     "execution_count": 12,
     "metadata": {},
     "output_type": "execute_result"
    }
   ],
   "source": [
    "d1 = {\"a\": 1, \"b\": 3}\n",
    "d2 = {\"a\": 2, \"b\": 3, \"c\": 4}\n",
    "d1 | d2"
   ]
  },
  {
   "cell_type": "code",
   "execution_count": 13,
   "id": "4cc7d595-4d1c-4d23-b4cd-19c4882c65be",
   "metadata": {},
   "outputs": [
    {
     "data": {
      "text/plain": [
       "{'a': 1, 'b': 3}"
      ]
     },
     "execution_count": 13,
     "metadata": {},
     "output_type": "execute_result"
    }
   ],
   "source": [
    "d1"
   ]
  },
  {
   "cell_type": "code",
   "execution_count": 14,
   "id": "ceb98f07-4753-4087-8e3c-5c33e51d7290",
   "metadata": {},
   "outputs": [],
   "source": [
    "d1 |= d2"
   ]
  },
  {
   "cell_type": "code",
   "execution_count": 15,
   "id": "6551c07f-cb21-41a7-b158-e357702000e3",
   "metadata": {},
   "outputs": [
    {
     "data": {
      "text/plain": [
       "{'a': 2, 'b': 3, 'c': 4}"
      ]
     },
     "execution_count": 15,
     "metadata": {},
     "output_type": "execute_result"
    }
   ],
   "source": [
    "d1"
   ]
  },
  {
   "cell_type": "markdown",
   "id": "aa09b776-605b-4ad3-937e-7f39a224a7c8",
   "metadata": {},
   "source": [
    "## Pattern Matching with Mappings"
   ]
  },
  {
   "cell_type": "code",
   "execution_count": null,
   "id": "36e88bb5-f246-4d52-8272-038d628e8ad5",
   "metadata": {},
   "outputs": [],
   "source": [
    "def get_creators(record: dict) -> list:\n",
    "    match record:\n",
    "        case {\"type\": \"book\", \"api\": 2, \"authors\": [*names]}\n",
    "            return names\n",
    "    case _:\n",
    "        raise ValueError(f\"invalid record: {record!r})"
   ]
  }
 ],
 "metadata": {
  "kernelspec": {
   "display_name": "jupyter-notebooks",
   "language": "python",
   "name": "python3"
  },
  "language_info": {
   "codemirror_mode": {
    "name": "ipython",
    "version": 3
   },
   "file_extension": ".py",
   "mimetype": "text/x-python",
   "name": "python",
   "nbconvert_exporter": "python",
   "pygments_lexer": "ipython3",
   "version": "3.13.2"
  }
 },
 "nbformat": 4,
 "nbformat_minor": 5
}
