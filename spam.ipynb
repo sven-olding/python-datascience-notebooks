{
 "cells": [
  {
   "cell_type": "code",
   "execution_count": 1,
   "id": "fb64f2be-5524-42ac-b773-40805cc791d5",
   "metadata": {},
   "outputs": [],
   "source": [
    "import os\n",
    "import zipfile\n",
    "\n",
    "data_path = \"./data/\"\n",
    "spam_folder_name = \"Spam-Emails\"\n",
    "spam_data_path = data_path + spam_folder_name\n",
    "zip_file = spam_folder_name + \".zip\"\n",
    "\n",
    "if not os.path.exists(spam_data_path):\n",
    "    with zipfile.ZipFile(data_path + zip_file) as z:\n",
    "        z.extractall(data_path + spam_folder_name)"
   ]
  },
  {
   "cell_type": "code",
   "execution_count": 2,
   "id": "7801e730-ad17-4834-9f1a-4b71997ff865",
   "metadata": {},
   "outputs": [],
   "source": [
    "def get_files(folder):\n",
    "    return [f for f in os.listdir(folder) if os.path.isfile(os.path.join(folder, f))]\n"
   ]
  },
  {
   "cell_type": "code",
   "execution_count": 3,
   "id": "0e9f16c8-b046-4779-aec4-c6367fadf087",
   "metadata": {},
   "outputs": [],
   "source": [
    "def get_mail_body(path):\n",
    "    with open(path, encoding=\"ISO-8859-1\") as f: # iso-8859-1 e.g. for chinese signs (at least produces no error)\n",
    "        mail = f.read()\n",
    "        mail_parts = mail.split(\"\\n\\n\", 1) # mail body separated from header by two new lines\n",
    "        if len(mail_parts) != 2:\n",
    "            return None\n",
    "        return mail_parts[1]"
   ]
  },
  {
   "cell_type": "code",
   "execution_count": 4,
   "id": "aa366b07-e694-4341-8ed0-72f7333cafcc",
   "metadata": {},
   "outputs": [],
   "source": [
    "def get_mail_bodies(files):\n",
    "    return [b for f in files if (b := get_mail_body(f)) is not None]\n"
   ]
  },
  {
   "cell_type": "code",
   "execution_count": 5,
   "id": "88c12a35-d27d-40aa-95b5-187807636383",
   "metadata": {},
   "outputs": [],
   "source": [
    "spam_folder = os.path.join(spam_data_path, \"spam\")\n",
    "spam_mails = [os.path.join(spam_folder, f) for f in get_files(spam_folder)]\n",
    "ham_folder =  os.path.join(spam_data_path, \"easy_ham\")\n",
    "ham_mails = [os.path.join(ham_folder, f) for f in get_files(ham_folder)]"
   ]
  },
  {
   "cell_type": "code",
   "execution_count": 6,
   "id": "08c98a02-799d-4210-b2a2-f157bfbde2d4",
   "metadata": {},
   "outputs": [],
   "source": [
    "spam_mail_content = get_mail_bodies(spam_mails)\n",
    "ham_mail_content = get_mail_bodies(ham_mails)"
   ]
  },
  {
   "cell_type": "code",
   "execution_count": 7,
   "id": "a1607fe0-3d75-4217-bab6-e57e736fa443",
   "metadata": {},
   "outputs": [],
   "source": [
    "def email_is_spam(mail_body):\n",
    "    keywords = [(\"dollar\", 2), (\"offer\", 1), (\"service\", 1), (\"million\", 1), (\"please\", 2)]\n",
    "    for word, count in keywords:\n",
    "        if mail_body.lower().count(word) >= count:\n",
    "            return True\n",
    "    return False"
   ]
  },
  {
   "cell_type": "code",
   "execution_count": 8,
   "id": "a9fbd804-6d3f-4de8-bf65-5a673a623797",
   "metadata": {},
   "outputs": [
    {
     "name": "stdout",
     "output_type": "stream",
     "text": [
      "0.602\n",
      "0.1068\n"
     ]
    }
   ],
   "source": [
    "spam_detected = [int(email_is_spam(c)) for c in spam_mail_content]\n",
    "ham_spam_detected = [int(email_is_spam(c)) for c in ham_mail_content]\n",
    "\n",
    "print(sum(spam_detected)/len(spam_detected))\n",
    "print(sum(ham_spam_detected)/len(ham_spam_detected))"
   ]
  },
  {
   "cell_type": "code",
   "execution_count": null,
   "id": "70c10779-f3fe-4f0b-bc32-adb57815a6d8",
   "metadata": {},
   "outputs": [],
   "source": []
  }
 ],
 "metadata": {
  "kernelspec": {
   "display_name": "jupyter-notebooks",
   "language": "python",
   "name": "python3"
  },
  "language_info": {
   "codemirror_mode": {
    "name": "ipython",
    "version": 3
   },
   "file_extension": ".py",
   "mimetype": "text/x-python",
   "name": "python",
   "nbconvert_exporter": "python",
   "pygments_lexer": "ipython3",
   "version": "3.13.2"
  }
 },
 "nbformat": 4,
 "nbformat_minor": 5
}
