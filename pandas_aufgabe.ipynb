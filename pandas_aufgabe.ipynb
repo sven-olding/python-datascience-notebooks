{
 "cells": [
  {
   "cell_type": "code",
   "execution_count": 4,
   "metadata": {},
   "outputs": [
    {
     "data": {
      "text/html": [
       "<div>\n",
       "<style scoped>\n",
       "    .dataframe tbody tr th:only-of-type {\n",
       "        vertical-align: middle;\n",
       "    }\n",
       "\n",
       "    .dataframe tbody tr th {\n",
       "        vertical-align: top;\n",
       "    }\n",
       "\n",
       "    .dataframe thead th {\n",
       "        text-align: right;\n",
       "    }\n",
       "</style>\n",
       "<table border=\"1\" class=\"dataframe\">\n",
       "  <thead>\n",
       "    <tr style=\"text-align: right;\">\n",
       "      <th></th>\n",
       "      <th>dt</th>\n",
       "      <th>AverageTemperature</th>\n",
       "      <th>AverageTemperatureUncertainty</th>\n",
       "      <th>City</th>\n",
       "      <th>Country</th>\n",
       "      <th>Latitude</th>\n",
       "      <th>Longitude</th>\n",
       "    </tr>\n",
       "  </thead>\n",
       "  <tbody>\n",
       "    <tr>\n",
       "      <th>0</th>\n",
       "      <td>1849-01-01</td>\n",
       "      <td>26.704</td>\n",
       "      <td>1.435</td>\n",
       "      <td>Abidjan</td>\n",
       "      <td>Côte D'Ivoire</td>\n",
       "      <td>5.63</td>\n",
       "      <td>-3.23</td>\n",
       "    </tr>\n",
       "    <tr>\n",
       "      <th>1</th>\n",
       "      <td>1849-02-01</td>\n",
       "      <td>27.434</td>\n",
       "      <td>1.362</td>\n",
       "      <td>Abidjan</td>\n",
       "      <td>Côte D'Ivoire</td>\n",
       "      <td>5.63</td>\n",
       "      <td>-3.23</td>\n",
       "    </tr>\n",
       "    <tr>\n",
       "      <th>2</th>\n",
       "      <td>1849-03-01</td>\n",
       "      <td>28.101</td>\n",
       "      <td>1.612</td>\n",
       "      <td>Abidjan</td>\n",
       "      <td>Côte D'Ivoire</td>\n",
       "      <td>5.63</td>\n",
       "      <td>-3.23</td>\n",
       "    </tr>\n",
       "    <tr>\n",
       "      <th>3</th>\n",
       "      <td>1849-04-01</td>\n",
       "      <td>26.140</td>\n",
       "      <td>1.387</td>\n",
       "      <td>Abidjan</td>\n",
       "      <td>Côte D'Ivoire</td>\n",
       "      <td>5.63</td>\n",
       "      <td>-3.23</td>\n",
       "    </tr>\n",
       "    <tr>\n",
       "      <th>4</th>\n",
       "      <td>1849-05-01</td>\n",
       "      <td>25.427</td>\n",
       "      <td>1.200</td>\n",
       "      <td>Abidjan</td>\n",
       "      <td>Côte D'Ivoire</td>\n",
       "      <td>5.63</td>\n",
       "      <td>-3.23</td>\n",
       "    </tr>\n",
       "    <tr>\n",
       "      <th>...</th>\n",
       "      <td>...</td>\n",
       "      <td>...</td>\n",
       "      <td>...</td>\n",
       "      <td>...</td>\n",
       "      <td>...</td>\n",
       "      <td>...</td>\n",
       "      <td>...</td>\n",
       "    </tr>\n",
       "    <tr>\n",
       "      <th>239172</th>\n",
       "      <td>2013-05-01</td>\n",
       "      <td>18.979</td>\n",
       "      <td>0.807</td>\n",
       "      <td>Xian</td>\n",
       "      <td>China</td>\n",
       "      <td>34.56</td>\n",
       "      <td>108.97</td>\n",
       "    </tr>\n",
       "    <tr>\n",
       "      <th>239173</th>\n",
       "      <td>2013-06-01</td>\n",
       "      <td>23.522</td>\n",
       "      <td>0.647</td>\n",
       "      <td>Xian</td>\n",
       "      <td>China</td>\n",
       "      <td>34.56</td>\n",
       "      <td>108.97</td>\n",
       "    </tr>\n",
       "    <tr>\n",
       "      <th>239174</th>\n",
       "      <td>2013-07-01</td>\n",
       "      <td>25.251</td>\n",
       "      <td>1.042</td>\n",
       "      <td>Xian</td>\n",
       "      <td>China</td>\n",
       "      <td>34.56</td>\n",
       "      <td>108.97</td>\n",
       "    </tr>\n",
       "    <tr>\n",
       "      <th>239175</th>\n",
       "      <td>2013-08-01</td>\n",
       "      <td>24.528</td>\n",
       "      <td>0.840</td>\n",
       "      <td>Xian</td>\n",
       "      <td>China</td>\n",
       "      <td>34.56</td>\n",
       "      <td>108.97</td>\n",
       "    </tr>\n",
       "    <tr>\n",
       "      <th>239176</th>\n",
       "      <td>2013-09-01</td>\n",
       "      <td>NaN</td>\n",
       "      <td>NaN</td>\n",
       "      <td>Xian</td>\n",
       "      <td>China</td>\n",
       "      <td>34.56</td>\n",
       "      <td>108.97</td>\n",
       "    </tr>\n",
       "  </tbody>\n",
       "</table>\n",
       "<p>239177 rows × 7 columns</p>\n",
       "</div>"
      ],
      "text/plain": [
       "               dt  AverageTemperature  AverageTemperatureUncertainty     City  \\\n",
       "0      1849-01-01              26.704                          1.435  Abidjan   \n",
       "1      1849-02-01              27.434                          1.362  Abidjan   \n",
       "2      1849-03-01              28.101                          1.612  Abidjan   \n",
       "3      1849-04-01              26.140                          1.387  Abidjan   \n",
       "4      1849-05-01              25.427                          1.200  Abidjan   \n",
       "...           ...                 ...                            ...      ...   \n",
       "239172 2013-05-01              18.979                          0.807     Xian   \n",
       "239173 2013-06-01              23.522                          0.647     Xian   \n",
       "239174 2013-07-01              25.251                          1.042     Xian   \n",
       "239175 2013-08-01              24.528                          0.840     Xian   \n",
       "239176 2013-09-01                 NaN                            NaN     Xian   \n",
       "\n",
       "              Country  Latitude  Longitude  \n",
       "0       Côte D'Ivoire      5.63      -3.23  \n",
       "1       Côte D'Ivoire      5.63      -3.23  \n",
       "2       Côte D'Ivoire      5.63      -3.23  \n",
       "3       Côte D'Ivoire      5.63      -3.23  \n",
       "4       Côte D'Ivoire      5.63      -3.23  \n",
       "...               ...       ...        ...  \n",
       "239172          China     34.56     108.97  \n",
       "239173          China     34.56     108.97  \n",
       "239174          China     34.56     108.97  \n",
       "239175          China     34.56     108.97  \n",
       "239176          China     34.56     108.97  \n",
       "\n",
       "[239177 rows x 7 columns]"
      ]
     },
     "execution_count": 4,
     "metadata": {},
     "output_type": "execute_result"
    }
   ],
   "source": [
    "import numpy as np\n",
    "import pandas as pd\n",
    "\n",
    "df = pd.read_csv(\"../udemy/Kursmaterialien/data/Temperature/GlobalLandTemperaturesByMajorCity.csv.bz2\")\n",
    "\n",
    "longitudeDir = df[\"Longitude\"].str[-1]\n",
    "df[\"Longitude\"] = df[\"Longitude\"].str[:-1].astype(\"float\")\n",
    "df.loc[longitudeDir == \"W\", \"Longitude\"] = df[\"Longitude\"] * -1\n",
    "\n",
    "latDir = df[\"Latitude\"].str[-1]\n",
    "df[\"Latitude\"] = df[\"Latitude\"].str[:-1].astype(\"float\")\n",
    "df.loc[latDir == \"S\", \"Latitude\"] = df[\"Latitude\"] * -1\n",
    "\n",
    "df[\"dt\"] = pd.to_datetime(df[\"dt\"])\n",
    "\n",
    "df"
   ]
  },
  {
   "cell_type": "markdown",
   "metadata": {},
   "source": [
    "## Aufgabe 1\n",
    "\n",
    "In Äquatornähe ist es tendenziell wärmer als weiter nördlich bzw. weiter südlich. \n",
    "\n",
    "a) Was ist die durchschnittliche \"AverageTemperature\" für alle Messwerte zwischen einem Breitengrad (\"Latitude\") von -10 und 10 Grad?\n",
    "\n",
    "b) Und was ist die durchschnittliche \"AverageTemperature\" für alle Messwerte außerhalb dieses Bereiches?\n",
    "\n",
    "**Hinweis:** Beantworte beide Fragen mit jeweils nur einer (wenn auch komplexen) Zeile Python-Code. Ggf wirst du hierfür die `.loc`-Schreibweise benötigen."
   ]
  },
  {
   "cell_type": "code",
   "execution_count": 15,
   "metadata": {},
   "outputs": [
    {
     "name": "stdout",
     "output_type": "stream",
     "text": [
      "Average Temperature a): 24.122938217747947\n",
      "Average Temperature b): 17.32718700802066\n"
     ]
    },
    {
     "data": {
      "text/plain": [
       "np.float64(17.32718700802066)"
      ]
     },
     "execution_count": 15,
     "metadata": {},
     "output_type": "execute_result"
    }
   ],
   "source": [
    "print(f\"Average Temperature a): {df.loc[(df.Latitude <= 10) & (df.Latitude >= -10), \"AverageTemperature\"].mean()}\")\n",
    "print(f\"Average Temperature b): {df.loc[(df.Latitude > 10) | (df.Latitude < -10), \"AverageTemperature\"].mean()}\")\n",
    "# Alternativ zu b) => df.loc[~((df.Latitude <= 10) & (df.Latitude >= -10)), \"AverageTemperature\"].mean()"
   ]
  },
  {
   "cell_type": "markdown",
   "metadata": {},
   "source": [
    "## Aufgabe 2\n",
    "\n",
    "In welchem Land wurde im Schnitt die höchste \"AverageTemperature\" gemessen?"
   ]
  },
  {
   "cell_type": "code",
   "execution_count": 24,
   "metadata": {},
   "outputs": [
    {
     "data": {
      "text/html": [
       "<div>\n",
       "<style scoped>\n",
       "    .dataframe tbody tr th:only-of-type {\n",
       "        vertical-align: middle;\n",
       "    }\n",
       "\n",
       "    .dataframe tbody tr th {\n",
       "        vertical-align: top;\n",
       "    }\n",
       "\n",
       "    .dataframe thead th {\n",
       "        text-align: right;\n",
       "    }\n",
       "</style>\n",
       "<table border=\"1\" class=\"dataframe\">\n",
       "  <thead>\n",
       "    <tr style=\"text-align: right;\">\n",
       "      <th></th>\n",
       "      <th>avgTemp</th>\n",
       "    </tr>\n",
       "    <tr>\n",
       "      <th>Country</th>\n",
       "      <th></th>\n",
       "    </tr>\n",
       "  </thead>\n",
       "  <tbody>\n",
       "    <tr>\n",
       "      <th>Sudan</th>\n",
       "      <td>29.081291</td>\n",
       "    </tr>\n",
       "    <tr>\n",
       "      <th>Vietnam</th>\n",
       "      <td>27.193984</td>\n",
       "    </tr>\n",
       "    <tr>\n",
       "      <th>Thailand</th>\n",
       "      <td>27.164733</td>\n",
       "    </tr>\n",
       "    <tr>\n",
       "      <th>Somalia</th>\n",
       "      <td>27.151964</td>\n",
       "    </tr>\n",
       "    <tr>\n",
       "      <th>Burma</th>\n",
       "      <td>26.735193</td>\n",
       "    </tr>\n",
       "  </tbody>\n",
       "</table>\n",
       "</div>"
      ],
      "text/plain": [
       "            avgTemp\n",
       "Country            \n",
       "Sudan     29.081291\n",
       "Vietnam   27.193984\n",
       "Thailand  27.164733\n",
       "Somalia   27.151964\n",
       "Burma     26.735193"
      ]
     },
     "execution_count": 24,
     "metadata": {},
     "output_type": "execute_result"
    }
   ],
   "source": [
    "df_country = df.groupby(\"Country\").agg(avgTemp = (\"AverageTemperature\", \"mean\"))\n",
    "df_country.sort_values(\"avgTemp\", inplace=True, ascending=False)\n",
    "df_country.head()"
   ]
  },
  {
   "cell_type": "code",
   "execution_count": 27,
   "metadata": {},
   "outputs": [
    {
     "data": {
      "text/plain": [
       "'Sudan'"
      ]
     },
     "execution_count": 27,
     "metadata": {},
     "output_type": "execute_result"
    }
   ],
   "source": [
    "df_country.iloc[0].name"
   ]
  },
  {
   "cell_type": "markdown",
   "metadata": {},
   "source": [
    "## Aufgabe 3\n",
    "\n",
    "Filtere die Daten (in einer neuen Variable), sodass nur noch die Jahre 1990-2012 (bis zum 31.12.2012) betrachtet werden.\n",
    "\n",
    "Erstelle anschließend eine Auflistung, bei der für jedes Jahr der Durchschnittswert der Spalte \"AverageTemperature\" berechnet wird! Welches dieser Jahre war das wärmste Jahr?\n",
    "\n",
    "**Hinweis:** Du kannst Datumswerte einfach miteinander vergleichen. Dies funktioniert auch, wenn auf der rechten bzw. auf der linken Seite eine Series steht, hier in diesem Beispiel wird also dann `True` ausgegeben:\n",
    "\n",
    "```python\n",
    "print(pd.to_datetime(\"1990-01-01\") < pd.to_datetime(\"1995-01-01\"))\n",
    "```"
   ]
  },
  {
   "cell_type": "code",
   "execution_count": 42,
   "metadata": {},
   "outputs": [
    {
     "name": "stdout",
     "output_type": "stream",
     "text": [
      "1990\n"
     ]
    },
    {
     "name": "stderr",
     "output_type": "stream",
     "text": [
      "/var/folders/hx/y2d2677x1c52yx01841155080000gn/T/ipykernel_60558/490597861.py:2: SettingWithCopyWarning: \n",
      "A value is trying to be set on a copy of a slice from a DataFrame.\n",
      "Try using .loc[row_indexer,col_indexer] = value instead\n",
      "\n",
      "See the caveats in the documentation: https://pandas.pydata.org/pandas-docs/stable/user_guide/indexing.html#returning-a-view-versus-a-copy\n",
      "  df_filtered[\"year\"] = df[\"dt\"].dt.year\n"
     ]
    }
   ],
   "source": [
    "df_filtered = df[(df[\"dt\"] > pd.to_datetime(\"1990-01-01\")) & (df[\"dt\"] < pd.to_datetime(\"2012-12-31\"))]\n",
    "df_filtered[\"year\"] = df[\"dt\"].dt.year\n",
    "res = df_filtered.groupby(\"year\").agg(avgT = (\"AverageTemperature\", \"mean\"))\n",
    "res.sort_values(\"avgT\", ascending = False, inplace = True)\n",
    "print(res.iloc[0].name)"
   ]
  },
  {
   "cell_type": "code",
   "execution_count": 6,
   "metadata": {},
   "outputs": [],
   "source": []
  },
  {
   "cell_type": "code",
   "execution_count": null,
   "metadata": {},
   "outputs": [],
   "source": []
  },
  {
   "cell_type": "code",
   "execution_count": null,
   "metadata": {},
   "outputs": [],
   "source": []
  }
 ],
 "metadata": {
  "kernelspec": {
   "display_name": "Python 3 (ipykernel)",
   "language": "python",
   "name": "python3"
  },
  "language_info": {
   "codemirror_mode": {
    "name": "ipython",
    "version": 3
   },
   "file_extension": ".py",
   "mimetype": "text/x-python",
   "name": "python",
   "nbconvert_exporter": "python",
   "pygments_lexer": "ipython3",
   "version": "3.13.2"
  }
 },
 "nbformat": 4,
 "nbformat_minor": 4
}
